{
  "nbformat": 4,
  "nbformat_minor": 0,
  "metadata": {
    "colab": {
      "provenance": [],
      "authorship_tag": "ABX9TyNnFCo2TpSqQYLhPNuYzKTp",
      "include_colab_link": true
    },
    "kernelspec": {
      "name": "python3",
      "display_name": "Python 3"
    },
    "language_info": {
      "name": "python"
    }
  },
  "cells": [
    {
      "cell_type": "markdown",
      "metadata": {
        "id": "view-in-github",
        "colab_type": "text"
      },
      "source": [
        "<a href=\"https://colab.research.google.com/github/mzrd91/Genetic-Programming-Binary-Encoding/blob/main/GA-Binary-Encoding.ipynb\" target=\"_parent\"><img src=\"https://colab.research.google.com/assets/colab-badge.svg\" alt=\"Open In Colab\"/></a>"
      ]
    },
    {
      "cell_type": "code",
      "execution_count": 3,
      "metadata": {
        "id": "MBMYhSpoZd4r"
      },
      "outputs": [],
      "source": [
        "import math\n",
        "import random\n",
        "import statistics\n",
        "import numpy as np"
      ]
    },
    {
      "cell_type": "code",
      "source": [
        "variable_ranges = [[-7.0, 4.0], [-7.0, 4.0], [-7.0, 4.0]]\n",
        "bits_per_variable = [15,20,25]\n",
        "num_variables = 3\n",
        "pop_size = 50\n",
        "pc = 0.9\n",
        "pm = 0.05\n",
        "max_generations = 100\n",
        "num_runs = 30"
      ],
      "metadata": {
        "id": "4oGGbMm0cJ5E"
      },
      "execution_count": 4,
      "outputs": []
    },
    {
      "cell_type": "code",
      "source": [
        "def initialize_population():\n",
        "    # Initialize the population with random bit-strings for each variable\n",
        "    population = []\n",
        "    for i in range(pop_size):\n",
        "        x1_bitstring = ''.join(random.choices(['0', '1'], k=bits_per_variable[0]))\n",
        "        x2_bitstring = ''.join(random.choices(['0', '1'], k=bits_per_variable[1]))\n",
        "        x3_bitstring = ''.join(random.choices(['0', '1'], k=bits_per_variable[2]))\n",
        "        individual = x1_bitstring + x2_bitstring + x3_bitstring\n",
        "        population.append(individual)\n",
        "    return population\n",
        "\n",
        "def decode_individual(individual):\n",
        "    # Convert bit-strings to floating point values\n",
        "    x1 = variable_ranges[0][0] + (int(individual[:bits_per_variable[0]], 2) / (2**bits_per_variable[0]-1)) * (variable_ranges[0][1] - variable_ranges[0][0])\n",
        "    x2 = variable_ranges[1][0] + (int(individual[bits_per_variable[0]:bits_per_variable[0]+bits_per_variable[1]], 2) / (2**bits_per_variable[1]-1)) * (variable_ranges[1][1] - variable_ranges[1][0])\n",
        "    x3 = variable_ranges[2][0] + (int(individual[-bits_per_variable[2]:], 2) / (2**bits_per_variable[2]-1)) * (variable_ranges[2][1] - variable_ranges[2][0])\n",
        "    return [x1, x2, x3]\n",
        "\n",
        "\n",
        "def evaluate_population(population):\n",
        "    # Evaluate the fitness of each individual in the population\n",
        "    fitness_values = []\n",
        "    for individual in population:\n",
        "        [x1, x2, x3] = decode_individual(individual)\n",
        "        fitness = x1**2 + x2**2 + x3**2\n",
        "        fitness_values.append(fitness)\n",
        "    return fitness_values\n",
        "\n",
        "\n",
        "\n",
        "def proportional_selection(population, fitness_values):\n",
        "    total_fitness = sum(fitness_values)\n",
        "    probabilities = [fitness / total_fitness for fitness in fitness_values]\n",
        "    selected_indices = random.choices(range(pop_size), weights=probabilities, k=pop_size)\n",
        "    selected_population = [population[i] for i in selected_indices]\n",
        "    return selected_population\n",
        "\n",
        "def single_point_crossover(parent1, parent2):\n",
        "    # Perform single-point crossover\n",
        "    crossover_point = random.randint(0, len(parent1))\n",
        "    child1 = parent1[:crossover_point] + parent2[crossover_point:]\n",
        "    child2 = parent2[:crossover_point] + parent1[crossover_point:]\n",
        "    return child1, child2\n",
        "\n",
        "\n",
        "def mutation(individual):\n",
        "    # Perform gene-wise mutation\n",
        "    x1_list = list(individual[:bits_per_variable[0]])\n",
        "    x2_list = list(individual[bits_per_variable[0]:bits_per_variable[0]+bits_per_variable[1]])\n",
        "    x3_list = list(individual[-bits_per_variable[2]:])\n",
        "    for i in range(len(x1_list)):\n",
        "        if random.random() < pm:\n",
        "            x1_list[i] = '1' if x1_list[i] == '0' else '0'\n",
        "    for i in range(len(x2_list)):\n",
        "        if random.random() < pm:\n",
        "            x2_list[i] = '1' if x2_list[i] == '0' else '0'\n",
        "    for i in range(len(x3_list)):\n",
        "        if random.random() < pm:\n",
        "            x3_list[i] = '1' if x3_list[i] == '0' else '0'\n",
        "    individual = ''.join(x1_list + x2_list + x3_list)\n",
        "    return individual\n",
        "\n",
        "\n",
        "def run_ga():\n",
        "    # Initialize the best solution and its fitness value\n",
        "    best_of_run_solution = None\n",
        "    best_of_run_fitness = float(\"inf\")\n",
        "\n",
        "    # Run the GA for 30 independent runs\n",
        "    best_fitnesses = []\n",
        "\n",
        "    for run in range(num_runs):\n",
        "        # Initialize the population\n",
        "        population = initialize_population()\n",
        "\n",
        "        # Run the GA for the specified number of generations\n",
        "        for gen in range(max_generations):\n",
        "            # Evaluate the fitness of the population\n",
        "            fitness_values = evaluate_population(population)\n",
        "\n",
        "            # Select the parents for the next generation\n",
        "            selected_population = proportional_selection(population, fitness_values)\n",
        "\n",
        "            # Create a new population through crossover and mutation\n",
        "            new_population = []\n",
        "\n",
        "            for i in range(int(pop_size / 2)):\n",
        "                # Select two parents at random from the selected population\n",
        "                [parent1, parent2] = random.sample(selected_population, k=2)\n",
        "\n",
        "                # Perform crossover with probability pc\n",
        "                if random.random() < pc:\n",
        "                    [child1, child2] = single_point_crossover(parent1, parent2)\n",
        "                else:\n",
        "                    child1, child2 = parent1, parent2\n",
        "\n",
        "                # Perform mutation with probability pm\n",
        "                child1 = mutation(child1)\n",
        "                child2 = mutation(child2)\n",
        "\n",
        "                # Add the new children to the new population\n",
        "                new_population.append(child1)\n",
        "                new_population.append(child2)\n",
        "\n",
        "            # Replace the old population with the new populationa\n",
        "            population = new_population\n",
        "\n",
        "            # Track the best fitness of the population\n",
        "            best_fitness = min(fitness_values)\n",
        "            best_solution = population[np.argmin(fitness_values)]\n",
        "\n",
        "            # Update the best solution and fitness value if a better solution is found\n",
        "            if best_fitness < best_of_run_fitness:\n",
        "                best_of_run_solution = best_solution\n",
        "                best_of_run_fitness = best_fitness\n",
        "\n",
        "        # Record the best fitness of the run\n",
        "        best_fitnesses.append(best_fitness)\n",
        "\n",
        "    return best_of_run_solution, best_of_run_fitness, best_fitnesses\n"
      ],
      "metadata": {
        "id": "O3B5J1v7cK5R"
      },
      "execution_count": 5,
      "outputs": []
    },
    {
      "cell_type": "code",
      "source": [
        "# Run the GA for the specified number of independent runs\n",
        "best_solution, best_fitness , best_fitnesses = run_ga()\n",
        "\n",
        "# Print the average and standard deviation of the best fitness over all runs\n",
        "avg_best_fitness = statistics.mean(best_fitnesses)\n",
        "std_best_fitness = statistics.stdev(best_fitnesses)\n",
        "print(f\"\\nAverage best fitness over {num_runs} runs: {avg_best_fitness:.4f}\")\n",
        "print(f\"Standard deviation of best fitness over {num_runs} runs: {std_best_fitness:.4f}\")\n",
        "\n",
        "# Print the vector of the best-of-run solution\n",
        "print(f\"\\nBest-of-run solution:\")\n",
        "print(f\"Bit-string representation: {best_solution}\")\n",
        "x, y, z = decode_individual(best_solution)\n",
        "print(f\"Floating-point values: x1 = {x:.4f}, x2 = {y:.4f}, x3 = {z:.4f}\")\n",
        "print(f\"Fitness value: {best_fitness:.4f}\")"
      ],
      "metadata": {
        "colab": {
          "base_uri": "https://localhost:8080/"
        },
        "id": "eHx4YeFVcWIq",
        "outputId": "fdd75c39-c7f4-40a7-b911-5de660d066d0"
      },
      "execution_count": 6,
      "outputs": [
        {
          "output_type": "stream",
          "name": "stdout",
          "text": [
            "\n",
            "Average best fitness over 30 runs: 24.4872\n",
            "Standard deviation of best fitness over 30 runs: 10.9826\n",
            "\n",
            "Best-of-run solution:\n",
            "Bit-string representation: 000101001111000010011100111000111100000000110011100000011110\n",
            "Floating-point values: x1 = -6.1003, x2 = -3.6293, x3 = -6.9308\n",
            "Fitness value: 0.1457\n"
          ]
        }
      ]
    }
  ]
}